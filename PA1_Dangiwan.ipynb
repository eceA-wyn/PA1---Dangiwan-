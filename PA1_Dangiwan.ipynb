{
 "cells": [
  {
   "cell_type": "markdown",
   "id": "8fad722b-5f81-4dad-9554-a486b4d2368a",
   "metadata": {},
   "source": [
    "# ALPHABET SOUP PROBLEM"
   ]
  },
  {
   "cell_type": "code",
   "execution_count": null,
   "id": "c75bd28d-418f-498d-a9cc-37ada1e38596",
   "metadata": {},
   "outputs": [],
   "source": [
    "z = input(\"Enter a string: \")\n",
    "alphabet = list(z)\n",
    "alphabet.sort()\n",
    "print(alphabet)"
   ]
  },
  {
   "cell_type": "markdown",
   "id": "5128052c-4823-4089-9800-195ca61332f6",
   "metadata": {},
   "source": [
    "# EMOTICON PROBLEM"
   ]
  },
  {
   "cell_type": "code",
   "execution_count": null,
   "id": "b29c0228-5000-4ab0-9959-c37640473efb",
   "metadata": {},
   "outputs": [],
   "source": [
    "def replacement(text):\n",
    "    emoticons = {\"smile\":\":)\", \"grin\": \":D\", \"sad\": \":((\", \"mad\": \">:(\"}\n",
    "    for y in emoticons:\n",
    "        text = text.replace(y, emoticons[y])\n",
    "    return text\n",
    "x = input(\"How are you feeling today?: \")\n",
    "print(replacement(x))"
   ]
  },
  {
   "cell_type": "markdown",
   "id": "3bf47ddf-bb27-4e98-970e-0037aaf0082a",
   "metadata": {},
   "source": [
    "# UNPACKING LIST PROBLEM"
   ]
  },
  {
   "cell_type": "code",
   "execution_count": null,
   "id": "7694225a-c1de-4578-9306-a21b51a8c934",
   "metadata": {},
   "outputs": [],
   "source": [
    "writeyourcodehere = [1,2,3,4,5,6]\n",
    "\n",
    "first = writeyourcodehere[0]\n",
    "middle = writeyourcodehere[1:5]\n",
    "last = writeyourcodehere[5]\n",
    "\n",
    "print(\"First = [\", first, \"]\")\n",
    "print(\"Middle =\", middle,)\n",
    "print(\"Last = [\",last,\"]\")"
   ]
  },
  {
   "cell_type": "code",
   "execution_count": null,
   "id": "f5e2a49b-0668-4b16-a372-94eb817d9bce",
   "metadata": {},
   "outputs": [],
   "source": []
  }
 ],
 "metadata": {
  "kernelspec": {
   "display_name": "Python [conda env:base] *",
   "language": "python",
   "name": "conda-base-py"
  },
  "language_info": {
   "codemirror_mode": {
    "name": "ipython",
    "version": 3
   },
   "file_extension": ".py",
   "mimetype": "text/x-python",
   "name": "python",
   "nbconvert_exporter": "python",
   "pygments_lexer": "ipython3",
   "version": "3.13.5"
  }
 },
 "nbformat": 4,
 "nbformat_minor": 5
}
